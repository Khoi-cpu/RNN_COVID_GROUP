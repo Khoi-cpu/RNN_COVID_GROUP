{
 "cells": [
  {
   "cell_type": "code",
   "execution_count": null,
   "metadata": {},
   "outputs": [],
   "source": [
    "import pandas as pd\n",
    "import statsmodels.api as sm\n",
    "from statsmodels.formula.api import ols\n",
    "from scipy import stats"
   ]
  },
  {
   "cell_type": "code",
   "execution_count": null,
   "metadata": {},
   "outputs": [],
   "source": [
    "import tensorflow as tf\n",
    "print(tf.version)"
   ]
  },
  {
   "cell_type": "code",
   "execution_count": null,
   "metadata": {},
   "outputs": [],
   "source": [
    "print(tf.version)"
   ]
  },
  {
   "cell_type": "code",
   "execution_count": null,
   "metadata": {},
   "outputs": [],
   "source": [
    "#loads a CSV file into a pandas DataFrame  \n",
    "# prints the first few rows to give you a preview of the data\n",
    "file_path = \"C:\\\\Users\\\\Kerry\\\\Documents\\\\RNN_COVID_GROUP\\\\Datasets\\\\Vaccination_Coverage_among_Young_Children__0-35_Months__20241101.csv\"\n",
    "df = pd.read_csv(file_path)\n",
    "print(df.head())"
   ]
  },
  {
   "cell_type": "code",
   "execution_count": null,
   "metadata": {},
   "outputs": [],
   "source": [
    "#remove rows with missing values (NaN) in the specified column, Estimate (%)\n",
    "# makes sure the Estimate (%) column has no missing values, which could interfere with calculations or visualizations\n",
    "df_clean = df.dropna(subset=['Estimate (%)'])\n"
   ]
  },
  {
   "cell_type": "code",
   "execution_count": null,
   "metadata": {},
   "outputs": [],
   "source": [
    "# Strip any leading/trailing spaces\n",
    "df_clean['Dimension'] = df_clean['Dimension'].str.strip()\n",
    "\n",
    "# Standardize to \"Title Case\" (e.g., \"5 Months\" instead of \"5 months\")\n",
    "df_clean['Dimension'] = df_clean['Dimension'].str.title()"
   ]
  },
  {
   "cell_type": "code",
   "execution_count": null,
   "metadata": {},
   "outputs": [],
   "source": [
    "regions = {\n",
    "    'Northeast': ['Maine', 'New York', ...],\n",
    "    'Midwest': ['Illinois', 'Ohio', ...],\n",
    "    'South': ['Texas', 'Florida', ...],\n",
    "    'West': ['California', 'Washington', ...]\n",
    "}\n",
    "\n",
    "def assign_region(state):\n",
    "    for region, states in regions.items():\n",
    "        if state in states:\n",
    "            return region\n",
    "    return None\n",
    "\n",
    "df_clean['Region'] = df_clean['Geography'].apply(assign_region)"
   ]
  },
  {
   "cell_type": "code",
   "execution_count": null,
   "metadata": {},
   "outputs": [],
   "source": [
    "# Group by region and state, then sample proportionally (e.g., 20% from each state)\n",
    "df_sampled = df_clean.groupby(['Region', 'Geography']).apply(lambda x: x.sample(frac=0.2, random_state=42)).reset_index(drop=True)\n"
   ]
  },
  {
   "cell_type": "code",
   "execution_count": null,
   "metadata": {},
   "outputs": [],
   "source": [
    "# code performs a two-way ANOVA to analyze the effects of two categorical variables (Region and Dimension)\n",
    "import statsmodels.api as sm\n",
    "from statsmodels.formula.api import ols\n",
    "\n",
    "model = ols('Q(\"Estimate (%)\") ~ C(Region) * C(Dimension)', data=df_sampled).fit()\n",
    "anova_table = sm.stats.anova_lm(model, typ=2)\n",
    "print(anova_table)\n"
   ]
  },
  {
   "cell_type": "code",
   "execution_count": null,
   "metadata": {},
   "outputs": [],
   "source": [
    "# Remove rows with missing values in 'Estimate (%)' and 'Region'\n",
    "df_tukey_region = df_clean.dropna(subset=['Estimate (%)', 'Region'])\n",
    "\n",
    "# Remove rows with missing values in 'Estimate (%)' and 'Dimension'\n",
    "df_tukey_age = df_clean.dropna(subset=['Estimate (%)', 'Dimension'])\n"
   ]
  },
  {
   "cell_type": "code",
   "execution_count": null,
   "metadata": {},
   "outputs": [],
   "source": [
    "from statsmodels.stats.multicomp import pairwise_tukeyhsd\n",
    "\n",
    "# Tukey's test for regions\n",
    "tukey_region = pairwise_tukeyhsd(df_tukey_region['Estimate (%)'], df_tukey_region['Region'])\n",
    "print(tukey_region)\n",
    "\n",
    "# Tukey's test for age milestones\n",
    "tukey_age = pairwise_tukeyhsd(df_tukey_age['Estimate (%)'], df_tukey_age['Dimension'])\n",
    "print(tukey_age)\n",
    "\n"
   ]
  },
  {
   "cell_type": "code",
   "execution_count": null,
   "metadata": {},
   "outputs": [],
   "source": [
    "# Filter for specific age milestones (e.g., 6 months, 12 months, 18 months, 24 months)\n",
    "age_milestones = ['6 Months', '12 Months', '18 Months', '24 Months']\n",
    "df_filtered = df_clean[df_clean['Dimension'].isin(age_milestones)]\n",
    "\n",
    "sns.lineplot(data=df_filtered, x='Dimension', y='Estimate (%)', hue='Region', marker='o')\n",
    "plt.title('Vaccine Coverage by Selected Age Milestones and Region')\n",
    "plt.xlabel('Age Milestone')\n",
    "plt.ylabel('Vaccine Coverage (%)')\n",
    "plt.show()\n"
   ]
  },
  {
   "cell_type": "code",
   "execution_count": null,
   "metadata": {},
   "outputs": [],
   "source": [
    "sns.boxplot(data=df_clean, x='Region', y='Estimate (%)')\n",
    "plt.title('Vaccine Coverage Distribution by Region')\n",
    "plt.xlabel('Region')\n",
    "plt.ylabel('Vaccine Coverage (%)')\n",
    "plt.show()\n"
   ]
  },
  {
   "cell_type": "code",
   "execution_count": null,
   "metadata": {},
   "outputs": [],
   "source": [
    "# Define the list of age milestones you want to keep\n",
    "age_milestones = [\n",
    "    '0 Days', '2 Months', '4 Months', '6 Months', '9 Months', '12 Months', \n",
    "    '15 Months', '18 Months', '19 Months', '24 Months', '35 Months'\n",
    "]\n",
    "\n",
    "# Filter the DataFrame to include only these age milestones\n",
    "df_age_only = df_clean[df_clean['Dimension'].isin(age_milestones)]\n",
    "\n",
    "# Plot the filtered data\n",
    "sns.boxplot(data=df_age_only, x='Dimension', y='Estimate (%)')\n",
    "plt.title('Vaccine Coverage Distribution by Age Milestone')\n",
    "plt.xlabel('Age Milestone')\n",
    "plt.ylabel('Vaccine Coverage (%)')\n",
    "plt.xticks(rotation=45)\n",
    "plt.show()\n"
   ]
  },
  {
   "cell_type": "code",
   "execution_count": null,
   "metadata": {},
   "outputs": [],
   "source": [
    "# Create broader age categories\n",
    "df_clean['Age Group'] = df_clean['Dimension'].apply(lambda x: '0-6 Months' if x in ['0 Days', '2 Months', '4 Months', '6 Months'] \n",
    "                                                    else '6-12 Months' if x in ['9 Months', '12 Months']\n",
    "                                                    else '12-18 Months' if x in ['15 Months', '18 Months']\n",
    "                                                    else '18-24 Months' if x in ['19 Months', '24 Months']\n",
    "                                                    else 'Other')\n",
    "\n",
    "# Calculate the average coverage for each region and age group\n",
    "df_grouped = df_clean.groupby(['Age Group', 'Region'])['Estimate (%)'].mean().reset_index()\n",
    "\n",
    "sns.lineplot(data=df_grouped, x='Age Group', y='Estimate (%)', hue='Region', marker='o')\n",
    "plt.title('Average Vaccine Coverage by Age Group and Region')\n",
    "plt.xlabel('Age Group')\n",
    "plt.ylabel('Average Vaccine Coverage (%)')\n",
    "plt.show()\n"
   ]
  },
  {
   "cell_type": "code",
   "execution_count": null,
   "metadata": {},
   "outputs": [],
   "source": [
    "# Check unique values in the 'Dimension' column to see available age milestones\n",
    "unique_age_milestones = df_clean['Dimension'].unique()\n",
    "print(sorted(unique_age_milestones))"
   ]
  },
  {
   "cell_type": "code",
   "execution_count": null,
   "metadata": {},
   "outputs": [],
   "source": [
    "# Define a new list of available age milestones starting from \"0-3 Days\"\n",
    "# (Adjust based on your dataset's actual contents)\n",
    "age_milestones_from_0_3_days = [\n",
    "    '0-3 Days', '1 Month', '2 Months', '3 Months', '4 Months', '5 Months',\n",
    "    '6 Months', '7 Months', '8 Months', '9 Months', '12 Months', \n",
    "    '15 Months', '18 Months', '19 Months', '24 Months', '35 Months'\n",
    "]\n",
    "\n",
    "# Filter the DataFrame again based on this list\n",
    "df_filtered = df_clean[df_clean['Dimension'].isin(age_milestones_from_0_3_days)]\n",
    "\n",
    "# Plot the filtered data\n",
    "plt.figure(figsize=(12, 6))\n",
    "sns.boxplot(data=df_filtered, x='Dimension', y='Estimate (%)')\n",
    "\n",
    "# Set the title and labels\n",
    "plt.title('Vaccine Coverage Distribution by Age Milestone (Starting from 0-3 Days)')\n",
    "plt.xlabel('Age Milestone')\n",
    "plt.ylabel('Vaccine Coverage (%)')\n",
    "\n",
    "# Rotate x-axis labels for readability\n",
    "plt.xticks(rotation=45, ha='right')\n",
    "\n",
    "# Show the plot\n",
    "plt.tight_layout()\n",
    "plt.show()\n"
   ]
  }
 ],
 "metadata": {
  "language_info": {
   "name": "python"
  }
 },
 "nbformat": 4,
 "nbformat_minor": 2
}
